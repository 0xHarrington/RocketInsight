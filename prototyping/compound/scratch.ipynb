{
 "cells": [
  {
   "cell_type": "code",
   "execution_count": 2,
   "id": "b1acb03a-d93f-42c7-bad7-f6f577d65d63",
   "metadata": {},
   "outputs": [],
   "source": [
    "import pandas as pd\n",
    "import json\n",
    "from web3 import Web3\n",
    "from datetime import datetime, timedelta\n",
    "import time\n",
    "import sys\n",
    "import json\n",
    "from collections import Counter\n",
    "\n",
    "# Map token names to contract addresses\n",
    "token_address_map = {\n",
    "    'rETH': '0xae78736Cd615f374D3085123A210448E74Fc6393'\n",
    "    # fill with rest\n",
    "}\n",
    "\n",
    "# Map market name to \"Pool\" contract address and abi filepath\n",
    "contract_address_abi_map = {\n",
    "    'AAVE': ('0x87870Bca3F3fD6335C3F4ce8392D69350B4fA4E2', './AAVE_Pool_ABI.json'),\n",
    "    'COMPOUND': ('0xA17581A9E3356d9A858b789D68B4d866e593aE94', './Compound_ABI.json')\n",
    "    # fill with rest\n",
    "}\n",
    "\n",
    "# Connect to ETH blockchain with infura API key\n",
    "w3 = Web3(Web3.HTTPProvider('https://mainnet.infura.io/v3/7e4f5238262543919688a59d0fef4a1d'))"
   ]
  },
  {
   "cell_type": "code",
   "execution_count": 3,
   "id": "d7a86b5b-a965-4cd6-867f-b23804c048ce",
   "metadata": {},
   "outputs": [],
   "source": [
    "# Set up contract address and ABI for each market\n",
    "contract_address, abi_filepath = contract_address_abi_map['COMPOUND']\n",
    "\n",
    "# Web3 setup\n",
    "with open(abi_filepath) as f:\n",
    "    abi = json.load(f)\n",
    "\n",
    "smart_contract = w3.eth.contract(address=contract_address, abi=abi)"
   ]
  },
  {
   "cell_type": "code",
   "execution_count": 4,
   "id": "23f4dd99-cf4c-449c-8e28-23eca03e56fa",
   "metadata": {},
   "outputs": [],
   "source": [
    "# Find block number closest to timestamp with binary search\n",
    "def find_block_by_timestamp(target_timestamp):\n",
    "    low, high = 0, w3.eth.block_number\n",
    "    while low < high:\n",
    "        mid = (low + high) // 2\n",
    "        mid_block_timestamp = w3.eth.get_block(mid).timestamp\n",
    "        if mid_block_timestamp < target_timestamp:\n",
    "            low = mid+1\n",
    "        else:\n",
    "            high = mid\n",
    "    return low\n",
    "\n",
    "\n",
    "# Helper to convert block number to readable timestamp string\n",
    "def get_block_timestamp(block_num):\n",
    "    block = w3.eth.get_block(block_num)\n",
    "    timestamp = block.timestamp\n",
    "    \n",
    "    return datetime.utcfromtimestamp(timestamp).strftime('%Y-%m-%d %H:%M:%S')\n"
   ]
  },
  {
   "cell_type": "code",
   "execution_count": 5,
   "id": "f03577c7-a64e-47c7-b13c-36c752f10204",
   "metadata": {},
   "outputs": [],
   "source": [
    "# Get timestamp of timeframe provided\n",
    "timeframe=90\n",
    "current_time = datetime.now()\n",
    "start_time = current_time - timedelta(days=timeframe)\n",
    "st_timestamp = int(start_time.timestamp())\n",
    "\n",
    "# Find the block associated with our start_time timestamp\n",
    "st_block = find_block_by_timestamp(st_timestamp)"
   ]
  },
  {
   "cell_type": "code",
   "execution_count": 14,
   "id": "bb4c09d8-265d-4416-bd23-f5c160181123",
   "metadata": {},
   "outputs": [
    {
     "data": {
      "text/plain": [
       "(AttributeDict({'args': AttributeDict({'buyer': '0x6980a47beE930a4584B09Ee79eBe46484FbDBDD0',\n",
       "   'asset': '0xBe9895146f7AF43049ca1c1AE358B0541Ea49704',\n",
       "   'baseAmount': 3074521951680235520,\n",
       "   'collateralAmount': 3100569526212998297}),\n",
       "  'event': 'BuyCollateral',\n",
       "  'logIndex': 31,\n",
       "  'transactionIndex': 2,\n",
       "  'transactionHash': HexBytes('0x16b68d4390f941245d64734e7ce168420abbf1a5441c873654a280bb28341905'),\n",
       "  'address': '0xA17581A9E3356d9A858b789D68B4d866e593aE94',\n",
       "  'blockHash': HexBytes('0xe6cb31f070d490d105b38e321c1e6cf821cc0298423b88a961f747813940fb2a'),\n",
       "  'blockNumber': 19336302}),)"
      ]
     },
     "execution_count": 14,
     "metadata": {},
     "output_type": "execute_result"
    }
   ],
   "source": [
    "supplies = smart_contract.events.SupplyCollateral().get_logs(fromBlock=st_block,\n",
    "                                                    toBlock='latest',\n",
    "                                                    argument_filters={'asset': '0xae78736Cd615f374D3085123A210448E74Fc6393'})\n",
    "\n",
    "withdraw = smart_contract.events.WithdrawCollateral().get_logs(fromBlock=st_block,\n",
    "                                                    toBlock='latest',\n",
    "                                                    argument_filters={'asset': '0xae78736Cd615f374D3085123A210448E74Fc6393'})\n",
    "\n",
    "buys = smart_contract.events.BuyCollateral().get_logs(fromBlock=st_block,\n",
    "                                                    toBlock='latest'       \n",
    "                                                    )\n",
    "\n",
    "absorbs = smart_contract.events.BuyCollateral().get_logs(fromBlock=st_block,\n",
    "                                                    toBlock='latest'       \n",
    "                                                    )\n",
    "# Consider simplifying supply_list.. don't know what information future markets will return, \n",
    "# ... Will most likely trim this down to: Reserve, User, Amount (in token, not Wei), Timestamp, and block number\n",
    "# supply_list = [\n",
    "#     {\n",
    "#         'Reserve': event['args']['reserve'],\n",
    "#         'User (Wallet Address)': event['args']['user'],\n",
    "#         'Amount (Wei)': event['args']['amount'],\n",
    "#         'Amount (rETH)': event['args']['amount']/10**18,\n",
    "#         'Timestamp': get_block_timestamp(event['blockNumber']), # This particular line results in an aditional API call\n",
    "#         'LogIndex': event['logIndex'],\n",
    "#         'TransactionIndex': event['transactionIndex'],\n",
    "#         'TransactionHash': event['transactionHash'].hex(),\n",
    "#         'BlockHash': event['blockHash'].hex(),\n",
    "#         'BlockNumber': event['blockNumber']\n",
    "#     }\n",
    "#     for event in supplies\n",
    "# ]\n",
    "absorbs"
   ]
  },
  {
   "cell_type": "code",
   "execution_count": 31,
   "id": "e1176f6b-3bcd-4d68-9c22-4afb4a4e31be",
   "metadata": {},
   "outputs": [
    {
     "data": {
      "text/plain": [
       "145.01688768165906"
      ]
     },
     "execution_count": 31,
     "metadata": {},
     "output_type": "execute_result"
    }
   ],
   "source": [
    "rETH_info = smart_contract.functions.totalsCollateral('0xae78736Cd615f374D3085123A210448E74Fc6393').call()\n",
    "# Amount of rETH used for historical supply\n",
    "rETH_info[0] / 10**18"
   ]
  },
  {
   "cell_type": "code",
   "execution_count": 26,
   "id": "a390a03d-5a42-4309-8d81-e7370e7a43dc",
   "metadata": {},
   "outputs": [
    {
     "data": {
      "text/plain": [
       "0"
      ]
     },
     "execution_count": 26,
     "metadata": {},
     "output_type": "execute_result"
    }
   ],
   "source": [
    "rETH_reserves = smart_contract.functions.getCollateralReserves('0xae78736Cd615f374D3085123A210448E74Fc6393').call()\n",
    "rETH_reserves"
   ]
  },
  {
   "cell_type": "code",
   "execution_count": 23,
   "id": "739b44ee-a594-4f20-84e8-f77700d0ba6d",
   "metadata": {},
   "outputs": [
    {
     "data": {
      "text/plain": [
       "45063955125927280750277"
      ]
     },
     "execution_count": 23,
     "metadata": {},
     "output_type": "execute_result"
    }
   ],
   "source": [
    "total_supply = smart_contract.functions.totalSupply().call()\n",
    "total_supply"
   ]
  },
  {
   "cell_type": "code",
   "execution_count": 24,
   "id": "32aa3ee2-a600-4db4-8c12-13f7646f9683",
   "metadata": {},
   "outputs": [
    {
     "data": {
      "text/plain": [
       "33928548142654006268517"
      ]
     },
     "execution_count": 24,
     "metadata": {},
     "output_type": "execute_result"
    }
   ],
   "source": [
    "total_borrow = smart_contract.functions.totalBorrow().call()\n",
    "total_borrow"
   ]
  },
  {
   "cell_type": "code",
   "execution_count": 32,
   "id": "80ad0555-bd07-472f-99b9-6db2ffd418e6",
   "metadata": {},
   "outputs": [
    {
     "ename": "Web3ValidationError",
     "evalue": "\nCould not identify the intended function with name `getSupplyRate`, positional arguments with type(s) `` and keyword arguments with type(s) `{}`.\nFound 1 function(s) with the name `getSupplyRate`: ['getSupplyRate(uint256)']\nFunction invocation failed due to improper number of arguments.",
     "output_type": "error",
     "traceback": [
      "\u001b[1;31m---------------------------------------------------------------------------\u001b[0m",
      "\u001b[1;31mWeb3ValidationError\u001b[0m                       Traceback (most recent call last)",
      "Input \u001b[1;32mIn [32]\u001b[0m, in \u001b[0;36m<cell line: 1>\u001b[1;34m()\u001b[0m\n\u001b[1;32m----> 1\u001b[0m supply_rate \u001b[38;5;241m=\u001b[39m \u001b[43msmart_contract\u001b[49m\u001b[38;5;241;43m.\u001b[39;49m\u001b[43mfunctions\u001b[49m\u001b[38;5;241;43m.\u001b[39;49m\u001b[43mgetSupplyRate\u001b[49m\u001b[43m(\u001b[49m\u001b[43m)\u001b[49m\u001b[38;5;241m.\u001b[39mcall()\n",
      "File \u001b[1;32m~\\Anaconda3\\lib\\site-packages\\web3\\contract\\contract.py:260\u001b[0m, in \u001b[0;36mContractFunction.__call__\u001b[1;34m(self, *args, **kwargs)\u001b[0m\n\u001b[0;32m    258\u001b[0m \u001b[38;5;28;01melse\u001b[39;00m:\n\u001b[0;32m    259\u001b[0m     clone\u001b[38;5;241m.\u001b[39mkwargs \u001b[38;5;241m=\u001b[39m kwargs\n\u001b[1;32m--> 260\u001b[0m \u001b[43mclone\u001b[49m\u001b[38;5;241;43m.\u001b[39;49m\u001b[43m_set_function_info\u001b[49m\u001b[43m(\u001b[49m\u001b[43m)\u001b[49m\n\u001b[0;32m    261\u001b[0m \u001b[38;5;28;01mreturn\u001b[39;00m clone\n",
      "File \u001b[1;32m~\\Anaconda3\\lib\\site-packages\\web3\\contract\\base_contract.py:473\u001b[0m, in \u001b[0;36mBaseContractFunction._set_function_info\u001b[1;34m(self)\u001b[0m\n\u001b[0;32m    471\u001b[0m \u001b[38;5;28;01mdef\u001b[39;00m \u001b[38;5;21m_set_function_info\u001b[39m(\u001b[38;5;28mself\u001b[39m) \u001b[38;5;241m-\u001b[39m\u001b[38;5;241m>\u001b[39m \u001b[38;5;28;01mNone\u001b[39;00m:\n\u001b[0;32m    472\u001b[0m     \u001b[38;5;28;01mif\u001b[39;00m \u001b[38;5;129;01mnot\u001b[39;00m \u001b[38;5;28mself\u001b[39m\u001b[38;5;241m.\u001b[39mabi:\n\u001b[1;32m--> 473\u001b[0m         \u001b[38;5;28mself\u001b[39m\u001b[38;5;241m.\u001b[39mabi \u001b[38;5;241m=\u001b[39m \u001b[43mfind_matching_fn_abi\u001b[49m\u001b[43m(\u001b[49m\n\u001b[0;32m    474\u001b[0m \u001b[43m            \u001b[49m\u001b[38;5;28;43mself\u001b[39;49m\u001b[38;5;241;43m.\u001b[39;49m\u001b[43mcontract_abi\u001b[49m\u001b[43m,\u001b[49m\n\u001b[0;32m    475\u001b[0m \u001b[43m            \u001b[49m\u001b[38;5;28;43mself\u001b[39;49m\u001b[38;5;241;43m.\u001b[39;49m\u001b[43mw3\u001b[49m\u001b[38;5;241;43m.\u001b[39;49m\u001b[43mcodec\u001b[49m\u001b[43m,\u001b[49m\n\u001b[0;32m    476\u001b[0m \u001b[43m            \u001b[49m\u001b[38;5;28;43mself\u001b[39;49m\u001b[38;5;241;43m.\u001b[39;49m\u001b[43mfunction_identifier\u001b[49m\u001b[43m,\u001b[49m\n\u001b[0;32m    477\u001b[0m \u001b[43m            \u001b[49m\u001b[38;5;28;43mself\u001b[39;49m\u001b[38;5;241;43m.\u001b[39;49m\u001b[43margs\u001b[49m\u001b[43m,\u001b[49m\n\u001b[0;32m    478\u001b[0m \u001b[43m            \u001b[49m\u001b[38;5;28;43mself\u001b[39;49m\u001b[38;5;241;43m.\u001b[39;49m\u001b[43mkwargs\u001b[49m\u001b[43m,\u001b[49m\n\u001b[0;32m    479\u001b[0m \u001b[43m        \u001b[49m\u001b[43m)\u001b[49m\n\u001b[0;32m    480\u001b[0m     \u001b[38;5;28;01mif\u001b[39;00m \u001b[38;5;28mself\u001b[39m\u001b[38;5;241m.\u001b[39mfunction_identifier \u001b[38;5;129;01min\u001b[39;00m [FallbackFn, ReceiveFn]:\n\u001b[0;32m    481\u001b[0m         \u001b[38;5;28mself\u001b[39m\u001b[38;5;241m.\u001b[39mselector \u001b[38;5;241m=\u001b[39m encode_hex(\u001b[38;5;124mb\u001b[39m\u001b[38;5;124m\"\u001b[39m\u001b[38;5;124m\"\u001b[39m)\n",
      "File \u001b[1;32m~\\Anaconda3\\lib\\site-packages\\web3\\_utils\\contracts.py:208\u001b[0m, in \u001b[0;36mfind_matching_fn_abi\u001b[1;34m(abi, abi_codec, fn_identifier, args, kwargs)\u001b[0m\n\u001b[0;32m    197\u001b[0m collapsed_kwargs \u001b[38;5;241m=\u001b[39m \u001b[38;5;28mdict\u001b[39m(\n\u001b[0;32m    198\u001b[0m     {(k, extract_argument_types([v])) \u001b[38;5;28;01mfor\u001b[39;00m k, v \u001b[38;5;129;01min\u001b[39;00m kwargs\u001b[38;5;241m.\u001b[39mitems()}\n\u001b[0;32m    199\u001b[0m )\n\u001b[0;32m    200\u001b[0m message \u001b[38;5;241m=\u001b[39m (\n\u001b[0;32m    201\u001b[0m     \u001b[38;5;124mf\u001b[39m\u001b[38;5;124m\"\u001b[39m\u001b[38;5;130;01m\\n\u001b[39;00m\u001b[38;5;124mCould not identify the intended function with name `\u001b[39m\u001b[38;5;132;01m{\u001b[39;00mfn_identifier\u001b[38;5;132;01m}\u001b[39;00m\u001b[38;5;124m`, \u001b[39m\u001b[38;5;124m\"\u001b[39m\n\u001b[0;32m    202\u001b[0m     \u001b[38;5;124mf\u001b[39m\u001b[38;5;124m\"\u001b[39m\u001b[38;5;124mpositional arguments with type(s) `\u001b[39m\u001b[38;5;132;01m{\u001b[39;00mcollapsed_args\u001b[38;5;132;01m}\u001b[39;00m\u001b[38;5;124m` and \u001b[39m\u001b[38;5;124m\"\u001b[39m\n\u001b[1;32m   (...)\u001b[0m\n\u001b[0;32m    205\u001b[0m     \u001b[38;5;124mf\u001b[39m\u001b[38;5;124m\"\u001b[39m\u001b[38;5;124mthe name `\u001b[39m\u001b[38;5;132;01m{\u001b[39;00mfn_identifier\u001b[38;5;132;01m}\u001b[39;00m\u001b[38;5;124m`: \u001b[39m\u001b[38;5;132;01m{\u001b[39;00mmatching_function_signatures\u001b[38;5;132;01m}\u001b[39;00m\u001b[38;5;132;01m{\u001b[39;00mdiagnosis\u001b[38;5;132;01m}\u001b[39;00m\u001b[38;5;124m\"\u001b[39m\n\u001b[0;32m    206\u001b[0m )\n\u001b[1;32m--> 208\u001b[0m \u001b[38;5;28;01mraise\u001b[39;00m Web3ValidationError(message)\n",
      "\u001b[1;31mWeb3ValidationError\u001b[0m: \nCould not identify the intended function with name `getSupplyRate`, positional arguments with type(s) `` and keyword arguments with type(s) `{}`.\nFound 1 function(s) with the name `getSupplyRate`: ['getSupplyRate(uint256)']\nFunction invocation failed due to improper number of arguments."
     ]
    }
   ],
   "source": [
    "supply_rate = smart_contract.functions.getSupplyRate().call()"
   ]
  }
 ],
 "metadata": {
  "kernelspec": {
   "display_name": "Python 3 (ipykernel)",
   "language": "python",
   "name": "python3"
  },
  "language_info": {
   "codemirror_mode": {
    "name": "ipython",
    "version": 3
   },
   "file_extension": ".py",
   "mimetype": "text/x-python",
   "name": "python",
   "nbconvert_exporter": "python",
   "pygments_lexer": "ipython3",
   "version": "3.9.12"
  }
 },
 "nbformat": 4,
 "nbformat_minor": 5
}
