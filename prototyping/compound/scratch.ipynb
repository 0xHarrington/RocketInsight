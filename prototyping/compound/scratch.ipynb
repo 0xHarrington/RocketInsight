{
 "cells": [
  {
   "cell_type": "code",
   "execution_count": 17,
   "id": "b1acb03a-d93f-42c7-bad7-f6f577d65d63",
   "metadata": {},
   "outputs": [],
   "source": [
    "import pandas as pd\n",
    "import json\n",
    "from web3 import Web3\n",
    "from datetime import datetime, timedelta\n",
    "import time\n",
    "import sys\n",
    "import json\n",
    "from collections import Counter\n",
    "\n",
    "# Map token names to contract addresses\n",
    "token_address_map = {\n",
    "    'rETH': '0xae78736Cd615f374D3085123A210448E74Fc6393'\n",
    "    # fill with rest\n",
    "}\n",
    "\n",
    "# Map market name to \"Pool\" contract address and abi filepath\n",
    "contract_address_abi_map = {\n",
    "    'AAVE': ('0x87870Bca3F3fD6335C3F4ce8392D69350B4fA4E2', './AAVE_Pool_ABI.json'),\n",
    "    'COMPOUND': ('0xA17581A9E3356d9A858b789D68B4d866e593aE94', './Compound_ABI.json')\n",
    "    # fill with rest\n",
    "}\n",
    "\n",
    "# Connect to ETH blockchain with infura API key\n",
    "w3 = Web3(Web3.HTTPProvider('https://mainnet.infura.io/v3/7e4f5238262543919688a59d0fef4a1d'))"
   ]
  },
  {
   "cell_type": "code",
   "execution_count": 18,
   "id": "d7a86b5b-a965-4cd6-867f-b23804c048ce",
   "metadata": {},
   "outputs": [],
   "source": [
    "# Set up contract address and ABI for each market\n",
    "contract_address, abi_filepath = contract_address_abi_map['COMPOUND']\n",
    "\n",
    "# Web3 setup\n",
    "with open(abi_filepath) as f:\n",
    "    abi = json.load(f)\n",
    "\n",
    "smart_contract = w3.eth.contract(address=contract_address, abi=abi)"
   ]
  },
  {
   "cell_type": "code",
   "execution_count": 19,
   "id": "23f4dd99-cf4c-449c-8e28-23eca03e56fa",
   "metadata": {},
   "outputs": [],
   "source": [
    "# Find block number closest to timestamp with binary search\n",
    "def find_block_by_timestamp(target_timestamp):\n",
    "    low, high = 0, w3.eth.block_number\n",
    "    while low < high:\n",
    "        mid = (low + high) // 2\n",
    "        mid_block_timestamp = w3.eth.get_block(mid).timestamp\n",
    "        if mid_block_timestamp < target_timestamp:\n",
    "            low = mid+1\n",
    "        else:\n",
    "            high = mid\n",
    "    return low\n",
    "\n",
    "\n",
    "# Helper to convert block number to readable timestamp string\n",
    "def get_block_timestamp(block_num):\n",
    "    block = w3.eth.get_block(block_num)\n",
    "    timestamp = block.timestamp\n",
    "    \n",
    "    return datetime.utcfromtimestamp(timestamp).strftime('%Y-%m-%d %H:%M:%S')\n"
   ]
  },
  {
   "cell_type": "code",
   "execution_count": 20,
   "id": "f03577c7-a64e-47c7-b13c-36c752f10204",
   "metadata": {},
   "outputs": [],
   "source": [
    "# Get timestamp of timeframe provided\n",
    "timeframe=90\n",
    "current_time = datetime.now()\n",
    "start_time = current_time - timedelta(days=timeframe)\n",
    "st_timestamp = int(start_time.timestamp())\n",
    "\n",
    "# Find the block associated with our start_time timestamp\n",
    "st_block = find_block_by_timestamp(st_timestamp)"
   ]
  },
  {
   "cell_type": "code",
   "execution_count": 35,
   "id": "bb4c09d8-265d-4416-bd23-f5c160181123",
   "metadata": {},
   "outputs": [
    {
     "data": {
      "text/plain": [
       "(AttributeDict({'args': AttributeDict({'from': '0x121E1573B7C6c15Aa4C036d54BFd2974Cf38a163',\n",
       "   'dst': '0x121E1573B7C6c15Aa4C036d54BFd2974Cf38a163',\n",
       "   'asset': '0xae78736Cd615f374D3085123A210448E74Fc6393',\n",
       "   'amount': 8112001731285519}),\n",
       "  'event': 'SupplyCollateral',\n",
       "  'logIndex': 315,\n",
       "  'transactionIndex': 127,\n",
       "  'transactionHash': HexBytes('0x81d2e9db87affcac1f3e7f9bf16bdf531298b3c80c8de4cdd7e747b03ca29481'),\n",
       "  'address': '0xA17581A9E3356d9A858b789D68B4d866e593aE94',\n",
       "  'blockHash': HexBytes('0xc3f1143d8d57de487c3c87b70910b4f1b42e611d3b190f684093b5eacce06bc9'),\n",
       "  'blockNumber': 18911780}),\n",
       " AttributeDict({'args': AttributeDict({'from': '0xA490A0346808dDA91aea6698cB19e4697D9fc5cc',\n",
       "   'dst': '0xA490A0346808dDA91aea6698cB19e4697D9fc5cc',\n",
       "   'asset': '0xae78736Cd615f374D3085123A210448E74Fc6393',\n",
       "   'amount': 45469639104902929}),\n",
       "  'event': 'SupplyCollateral',\n",
       "  'logIndex': 255,\n",
       "  'transactionIndex': 153,\n",
       "  'transactionHash': HexBytes('0xb3641701dc283c565ccc2ef6e5c8a3139810c7fb5654d47414c7add19e2b95b8'),\n",
       "  'address': '0xA17581A9E3356d9A858b789D68B4d866e593aE94',\n",
       "  'blockHash': HexBytes('0x5a99b3d65b290b0545207b994fa38bd54b4d48d38cd90abd7e9a8850fce07448'),\n",
       "  'blockNumber': 18937508}),\n",
       " AttributeDict({'args': AttributeDict({'from': '0xAF198e3593B61bE3469d856c57961DAA49BE4852',\n",
       "   'dst': '0xAF198e3593B61bE3469d856c57961DAA49BE4852',\n",
       "   'asset': '0xae78736Cd615f374D3085123A210448E74Fc6393',\n",
       "   'amount': 1010000000000000}),\n",
       "  'event': 'SupplyCollateral',\n",
       "  'logIndex': 131,\n",
       "  'transactionIndex': 58,\n",
       "  'transactionHash': HexBytes('0xa86b714122e0943398a8c771fbd05a7c54a001d70569f09a4583603489682dbb'),\n",
       "  'address': '0xA17581A9E3356d9A858b789D68B4d866e593aE94',\n",
       "  'blockHash': HexBytes('0x0e16c9868727e8af8c8d50a66e2a2a2fd28b18e578c3ca56d165a1b5e49d5247'),\n",
       "  'blockNumber': 19010871}),\n",
       " AttributeDict({'args': AttributeDict({'from': '0xA86322a72Bd98c269E0D72Dc79594A25E3461b0B',\n",
       "   'dst': '0xA86322a72Bd98c269E0D72Dc79594A25E3461b0B',\n",
       "   'asset': '0xae78736Cd615f374D3085123A210448E74Fc6393',\n",
       "   'amount': 10000000000000000}),\n",
       "  'event': 'SupplyCollateral',\n",
       "  'logIndex': 325,\n",
       "  'transactionIndex': 115,\n",
       "  'transactionHash': HexBytes('0x46b1221adc9042a6064237de3e348add7f77d4319747241d6d2126bb65c99c62'),\n",
       "  'address': '0xA17581A9E3356d9A858b789D68B4d866e593aE94',\n",
       "  'blockHash': HexBytes('0xb34511b65f49d4cdc80305ad95904e28e7de16b0703243857a093602c6f5ef7d'),\n",
       "  'blockNumber': 19040097}),\n",
       " AttributeDict({'args': AttributeDict({'from': '0xA86322a72Bd98c269E0D72Dc79594A25E3461b0B',\n",
       "   'dst': '0xA86322a72Bd98c269E0D72Dc79594A25E3461b0B',\n",
       "   'asset': '0xae78736Cd615f374D3085123A210448E74Fc6393',\n",
       "   'amount': 100000000000000000}),\n",
       "  'event': 'SupplyCollateral',\n",
       "  'logIndex': 41,\n",
       "  'transactionIndex': 44,\n",
       "  'transactionHash': HexBytes('0x7619425f2bd027d0813f26af3ae128b446b9ca09275caef77709a8e1c0fc0fd6'),\n",
       "  'address': '0xA17581A9E3356d9A858b789D68B4d866e593aE94',\n",
       "  'blockHash': HexBytes('0x857b1bf3809402b9b818d5af88504d5071f188b7f9eea58d3d66edd3b5a4c95b'),\n",
       "  'blockNumber': 19047872}),\n",
       " AttributeDict({'args': AttributeDict({'from': '0xc36ba2e21D0eb8BBAB48FBf90Db39F0813F56F2C',\n",
       "   'dst': '0xc36ba2e21D0eb8BBAB48FBf90Db39F0813F56F2C',\n",
       "   'asset': '0xae78736Cd615f374D3085123A210448E74Fc6393',\n",
       "   'amount': 116405793348203100206}),\n",
       "  'event': 'SupplyCollateral',\n",
       "  'logIndex': 43,\n",
       "  'transactionIndex': 1,\n",
       "  'transactionHash': HexBytes('0xf959fe4e16300b0ab9a38d722c3879550a2e237ac9c0e9cf9bbf9e396e7c6015'),\n",
       "  'address': '0xA17581A9E3356d9A858b789D68B4d866e593aE94',\n",
       "  'blockHash': HexBytes('0x7132b2073b10be41e30583b3bb006ef2dfc94484cd896edd6a4440e9337dd576'),\n",
       "  'blockNumber': 19138889}),\n",
       " AttributeDict({'args': AttributeDict({'from': '0x0E4D77edB9bf3fFcE7E5910EDce70e1B9F5a9A89',\n",
       "   'dst': '0x0E4D77edB9bf3fFcE7E5910EDce70e1B9F5a9A89',\n",
       "   'asset': '0xae78736Cd615f374D3085123A210448E74Fc6393',\n",
       "   'amount': 4675994599047967777}),\n",
       "  'event': 'SupplyCollateral',\n",
       "  'logIndex': 98,\n",
       "  'transactionIndex': 44,\n",
       "  'transactionHash': HexBytes('0x6f6ec636d10e5d3829fe6411aa2625b318dd96b1f8e392cf7023a0fe928da955'),\n",
       "  'address': '0xA17581A9E3356d9A858b789D68B4d866e593aE94',\n",
       "  'blockHash': HexBytes('0x7347943be4ba076279ba9ca2b4b701bf8609f389fd0cbaa3e48caf21a0d6d0b2'),\n",
       "  'blockNumber': 19150225}),\n",
       " AttributeDict({'args': AttributeDict({'from': '0xa8C6E8aA1cB02d2e8B6aa57d958915bDb2223320',\n",
       "   'dst': '0xa8C6E8aA1cB02d2e8B6aa57d958915bDb2223320',\n",
       "   'asset': '0xae78736Cd615f374D3085123A210448E74Fc6393',\n",
       "   'amount': 26603873708152547177}),\n",
       "  'event': 'SupplyCollateral',\n",
       "  'logIndex': 203,\n",
       "  'transactionIndex': 66,\n",
       "  'transactionHash': HexBytes('0x5c4fb033800da2290e683ec0317b28a703744c24a8e81ecdd558ce69a229c102'),\n",
       "  'address': '0xA17581A9E3356d9A858b789D68B4d866e593aE94',\n",
       "  'blockHash': HexBytes('0x87d9c8b53dd56297953fbd45c4b62477a824487b4d6c4fd00c03d10132f4cd9e'),\n",
       "  'blockNumber': 19307784}),\n",
       " AttributeDict({'args': AttributeDict({'from': '0x266EedfA566C52584590E3f9B4532Ab051176793',\n",
       "   'dst': '0x266EedfA566C52584590E3f9B4532Ab051176793',\n",
       "   'asset': '0xae78736Cd615f374D3085123A210448E74Fc6393',\n",
       "   'amount': 4680622368966520665}),\n",
       "  'event': 'SupplyCollateral',\n",
       "  'logIndex': 456,\n",
       "  'transactionIndex': 148,\n",
       "  'transactionHash': HexBytes('0x155104f5e675fd9d5a9e45e051ff6c2e9d5b737b593ca30dd47b4fb4426742c7'),\n",
       "  'address': '0xA17581A9E3356d9A858b789D68B4d866e593aE94',\n",
       "  'blockHash': HexBytes('0xeb863dec050e419a79591f00ddc331ef771609021822ac47963edf7a57e4f43b'),\n",
       "  'blockNumber': 19394555}),\n",
       " AttributeDict({'args': AttributeDict({'from': '0xd0670Bdab37812660B462259b56c27CC25Dd5e41',\n",
       "   'dst': '0xd0670Bdab37812660B462259b56c27CC25Dd5e41',\n",
       "   'asset': '0xae78736Cd615f374D3085123A210448E74Fc6393',\n",
       "   'amount': 90000000000000000}),\n",
       "  'event': 'SupplyCollateral',\n",
       "  'logIndex': 195,\n",
       "  'transactionIndex': 161,\n",
       "  'transactionHash': HexBytes('0xad6b16f15ba6dbf07509e39edea7e5518a63f7f88ebff73c592588469b51ed16'),\n",
       "  'address': '0xA17581A9E3356d9A858b789D68B4d866e593aE94',\n",
       "  'blockHash': HexBytes('0xe3ac56d0d58e8bf2abb0eb1170ead72f708326bd8bfdeed04fa03f9cd9f349ce'),\n",
       "  'blockNumber': 19495406}))"
      ]
     },
     "execution_count": 35,
     "metadata": {},
     "output_type": "execute_result"
    }
   ],
   "source": [
    "supplies = smart_contract.events.SupplyCollateral().get_logs(fromBlock=st_block,\n",
    "                                                    toBlock='latest',\n",
    "                                                    argument_filters={'asset': '0xae78736Cd615f374D3085123A210448E74Fc6393'})\n",
    "\n",
    "borrows = smart_contract.events.BuyCollateral().get_logs(fromBlock=st_block,\n",
    "                                                    toBlock='latest',\n",
    "                                                    argument_filters={'asset': '0xae78736Cd615f374D3085123A210448E74Fc6393'})\n",
    "\n",
    "transfers = smart_contract.events.TransferCollateral().get_logs(fromBlock=st_block,\n",
    "                                                    toBlock='latest',\n",
    "                                                    argument_filters={'asset': '0xae78736Cd615f374D3085123A210448E74Fc6393'}       \n",
    "                                                    )\n",
    "# Consider simplifying supply_list.. don't know what information future markets will return, \n",
    "# ... Will most likely trim this down to: Reserve, User, Amount (in token, not Wei), Timestamp, and block number\n",
    "# supply_list = [\n",
    "#     {\n",
    "#         'Reserve': event['args']['reserve'],\n",
    "#         'User (Wallet Address)': event['args']['user'],\n",
    "#         'Amount (Wei)': event['args']['amount'],\n",
    "#         'Amount (rETH)': event['args']['amount']/10**18,\n",
    "#         'Timestamp': get_block_timestamp(event['blockNumber']), # This particular line results in an aditional API call\n",
    "#         'LogIndex': event['logIndex'],\n",
    "#         'TransactionIndex': event['transactionIndex'],\n",
    "#         'TransactionHash': event['transactionHash'].hex(),\n",
    "#         'BlockHash': event['blockHash'].hex(),\n",
    "#         'BlockNumber': event['blockNumber']\n",
    "#     }\n",
    "#     for event in supplies\n",
    "# ]\n",
    "supplies"
   ]
  },
  {
   "cell_type": "code",
   "execution_count": 31,
   "id": "e1176f6b-3bcd-4d68-9c22-4afb4a4e31be",
   "metadata": {},
   "outputs": [
    {
     "data": {
      "text/plain": [
       "145.01688768165906"
      ]
     },
     "execution_count": 31,
     "metadata": {},
     "output_type": "execute_result"
    }
   ],
   "source": [
    "rETH_info = smart_contract.functions.totalsCollateral('0xae78736Cd615f374D3085123A210448E74Fc6393').call()\n",
    "# Amount of rETH used for historical supply\n",
    "rETH_info[0] / 10**18"
   ]
  },
  {
   "cell_type": "code",
   "execution_count": 26,
   "id": "a390a03d-5a42-4309-8d81-e7370e7a43dc",
   "metadata": {},
   "outputs": [
    {
     "data": {
      "text/plain": [
       "0"
      ]
     },
     "execution_count": 26,
     "metadata": {},
     "output_type": "execute_result"
    }
   ],
   "source": [
    "rETH_reserves = smart_contract.functions.getCollateralReserves('0xae78736Cd615f374D3085123A210448E74Fc6393').call()\n",
    "rETH_reserves"
   ]
  },
  {
   "cell_type": "code",
   "execution_count": 23,
   "id": "739b44ee-a594-4f20-84e8-f77700d0ba6d",
   "metadata": {},
   "outputs": [
    {
     "data": {
      "text/plain": [
       "45063955125927280750277"
      ]
     },
     "execution_count": 23,
     "metadata": {},
     "output_type": "execute_result"
    }
   ],
   "source": [
    "total_supply = smart_contract.functions.totalSupply().call()\n",
    "total_supply"
   ]
  },
  {
   "cell_type": "code",
   "execution_count": 24,
   "id": "32aa3ee2-a600-4db4-8c12-13f7646f9683",
   "metadata": {},
   "outputs": [
    {
     "data": {
      "text/plain": [
       "33928548142654006268517"
      ]
     },
     "execution_count": 24,
     "metadata": {},
     "output_type": "execute_result"
    }
   ],
   "source": [
    "total_borrow = smart_contract.functions.totalBorrow().call()\n",
    "total_borrow"
   ]
  },
  {
   "cell_type": "code",
   "execution_count": 32,
   "id": "80ad0555-bd07-472f-99b9-6db2ffd418e6",
   "metadata": {},
   "outputs": [
    {
     "ename": "Web3ValidationError",
     "evalue": "\nCould not identify the intended function with name `getSupplyRate`, positional arguments with type(s) `` and keyword arguments with type(s) `{}`.\nFound 1 function(s) with the name `getSupplyRate`: ['getSupplyRate(uint256)']\nFunction invocation failed due to improper number of arguments.",
     "output_type": "error",
     "traceback": [
      "\u001b[1;31m---------------------------------------------------------------------------\u001b[0m",
      "\u001b[1;31mWeb3ValidationError\u001b[0m                       Traceback (most recent call last)",
      "Input \u001b[1;32mIn [32]\u001b[0m, in \u001b[0;36m<cell line: 1>\u001b[1;34m()\u001b[0m\n\u001b[1;32m----> 1\u001b[0m supply_rate \u001b[38;5;241m=\u001b[39m \u001b[43msmart_contract\u001b[49m\u001b[38;5;241;43m.\u001b[39;49m\u001b[43mfunctions\u001b[49m\u001b[38;5;241;43m.\u001b[39;49m\u001b[43mgetSupplyRate\u001b[49m\u001b[43m(\u001b[49m\u001b[43m)\u001b[49m\u001b[38;5;241m.\u001b[39mcall()\n",
      "File \u001b[1;32m~\\Anaconda3\\lib\\site-packages\\web3\\contract\\contract.py:260\u001b[0m, in \u001b[0;36mContractFunction.__call__\u001b[1;34m(self, *args, **kwargs)\u001b[0m\n\u001b[0;32m    258\u001b[0m \u001b[38;5;28;01melse\u001b[39;00m:\n\u001b[0;32m    259\u001b[0m     clone\u001b[38;5;241m.\u001b[39mkwargs \u001b[38;5;241m=\u001b[39m kwargs\n\u001b[1;32m--> 260\u001b[0m \u001b[43mclone\u001b[49m\u001b[38;5;241;43m.\u001b[39;49m\u001b[43m_set_function_info\u001b[49m\u001b[43m(\u001b[49m\u001b[43m)\u001b[49m\n\u001b[0;32m    261\u001b[0m \u001b[38;5;28;01mreturn\u001b[39;00m clone\n",
      "File \u001b[1;32m~\\Anaconda3\\lib\\site-packages\\web3\\contract\\base_contract.py:473\u001b[0m, in \u001b[0;36mBaseContractFunction._set_function_info\u001b[1;34m(self)\u001b[0m\n\u001b[0;32m    471\u001b[0m \u001b[38;5;28;01mdef\u001b[39;00m \u001b[38;5;21m_set_function_info\u001b[39m(\u001b[38;5;28mself\u001b[39m) \u001b[38;5;241m-\u001b[39m\u001b[38;5;241m>\u001b[39m \u001b[38;5;28;01mNone\u001b[39;00m:\n\u001b[0;32m    472\u001b[0m     \u001b[38;5;28;01mif\u001b[39;00m \u001b[38;5;129;01mnot\u001b[39;00m \u001b[38;5;28mself\u001b[39m\u001b[38;5;241m.\u001b[39mabi:\n\u001b[1;32m--> 473\u001b[0m         \u001b[38;5;28mself\u001b[39m\u001b[38;5;241m.\u001b[39mabi \u001b[38;5;241m=\u001b[39m \u001b[43mfind_matching_fn_abi\u001b[49m\u001b[43m(\u001b[49m\n\u001b[0;32m    474\u001b[0m \u001b[43m            \u001b[49m\u001b[38;5;28;43mself\u001b[39;49m\u001b[38;5;241;43m.\u001b[39;49m\u001b[43mcontract_abi\u001b[49m\u001b[43m,\u001b[49m\n\u001b[0;32m    475\u001b[0m \u001b[43m            \u001b[49m\u001b[38;5;28;43mself\u001b[39;49m\u001b[38;5;241;43m.\u001b[39;49m\u001b[43mw3\u001b[49m\u001b[38;5;241;43m.\u001b[39;49m\u001b[43mcodec\u001b[49m\u001b[43m,\u001b[49m\n\u001b[0;32m    476\u001b[0m \u001b[43m            \u001b[49m\u001b[38;5;28;43mself\u001b[39;49m\u001b[38;5;241;43m.\u001b[39;49m\u001b[43mfunction_identifier\u001b[49m\u001b[43m,\u001b[49m\n\u001b[0;32m    477\u001b[0m \u001b[43m            \u001b[49m\u001b[38;5;28;43mself\u001b[39;49m\u001b[38;5;241;43m.\u001b[39;49m\u001b[43margs\u001b[49m\u001b[43m,\u001b[49m\n\u001b[0;32m    478\u001b[0m \u001b[43m            \u001b[49m\u001b[38;5;28;43mself\u001b[39;49m\u001b[38;5;241;43m.\u001b[39;49m\u001b[43mkwargs\u001b[49m\u001b[43m,\u001b[49m\n\u001b[0;32m    479\u001b[0m \u001b[43m        \u001b[49m\u001b[43m)\u001b[49m\n\u001b[0;32m    480\u001b[0m     \u001b[38;5;28;01mif\u001b[39;00m \u001b[38;5;28mself\u001b[39m\u001b[38;5;241m.\u001b[39mfunction_identifier \u001b[38;5;129;01min\u001b[39;00m [FallbackFn, ReceiveFn]:\n\u001b[0;32m    481\u001b[0m         \u001b[38;5;28mself\u001b[39m\u001b[38;5;241m.\u001b[39mselector \u001b[38;5;241m=\u001b[39m encode_hex(\u001b[38;5;124mb\u001b[39m\u001b[38;5;124m\"\u001b[39m\u001b[38;5;124m\"\u001b[39m)\n",
      "File \u001b[1;32m~\\Anaconda3\\lib\\site-packages\\web3\\_utils\\contracts.py:208\u001b[0m, in \u001b[0;36mfind_matching_fn_abi\u001b[1;34m(abi, abi_codec, fn_identifier, args, kwargs)\u001b[0m\n\u001b[0;32m    197\u001b[0m collapsed_kwargs \u001b[38;5;241m=\u001b[39m \u001b[38;5;28mdict\u001b[39m(\n\u001b[0;32m    198\u001b[0m     {(k, extract_argument_types([v])) \u001b[38;5;28;01mfor\u001b[39;00m k, v \u001b[38;5;129;01min\u001b[39;00m kwargs\u001b[38;5;241m.\u001b[39mitems()}\n\u001b[0;32m    199\u001b[0m )\n\u001b[0;32m    200\u001b[0m message \u001b[38;5;241m=\u001b[39m (\n\u001b[0;32m    201\u001b[0m     \u001b[38;5;124mf\u001b[39m\u001b[38;5;124m\"\u001b[39m\u001b[38;5;130;01m\\n\u001b[39;00m\u001b[38;5;124mCould not identify the intended function with name `\u001b[39m\u001b[38;5;132;01m{\u001b[39;00mfn_identifier\u001b[38;5;132;01m}\u001b[39;00m\u001b[38;5;124m`, \u001b[39m\u001b[38;5;124m\"\u001b[39m\n\u001b[0;32m    202\u001b[0m     \u001b[38;5;124mf\u001b[39m\u001b[38;5;124m\"\u001b[39m\u001b[38;5;124mpositional arguments with type(s) `\u001b[39m\u001b[38;5;132;01m{\u001b[39;00mcollapsed_args\u001b[38;5;132;01m}\u001b[39;00m\u001b[38;5;124m` and \u001b[39m\u001b[38;5;124m\"\u001b[39m\n\u001b[1;32m   (...)\u001b[0m\n\u001b[0;32m    205\u001b[0m     \u001b[38;5;124mf\u001b[39m\u001b[38;5;124m\"\u001b[39m\u001b[38;5;124mthe name `\u001b[39m\u001b[38;5;132;01m{\u001b[39;00mfn_identifier\u001b[38;5;132;01m}\u001b[39;00m\u001b[38;5;124m`: \u001b[39m\u001b[38;5;132;01m{\u001b[39;00mmatching_function_signatures\u001b[38;5;132;01m}\u001b[39;00m\u001b[38;5;132;01m{\u001b[39;00mdiagnosis\u001b[38;5;132;01m}\u001b[39;00m\u001b[38;5;124m\"\u001b[39m\n\u001b[0;32m    206\u001b[0m )\n\u001b[1;32m--> 208\u001b[0m \u001b[38;5;28;01mraise\u001b[39;00m Web3ValidationError(message)\n",
      "\u001b[1;31mWeb3ValidationError\u001b[0m: \nCould not identify the intended function with name `getSupplyRate`, positional arguments with type(s) `` and keyword arguments with type(s) `{}`.\nFound 1 function(s) with the name `getSupplyRate`: ['getSupplyRate(uint256)']\nFunction invocation failed due to improper number of arguments."
     ]
    }
   ],
   "source": [
    "supply_rate = smart_contract.functions.getSupplyRate().call()"
   ]
  }
 ],
 "metadata": {
  "kernelspec": {
   "display_name": "Python 3 (ipykernel)",
   "language": "python",
   "name": "python3"
  },
  "language_info": {
   "codemirror_mode": {
    "name": "ipython",
    "version": 3
   },
   "file_extension": ".py",
   "mimetype": "text/x-python",
   "name": "python",
   "nbconvert_exporter": "python",
   "pygments_lexer": "ipython3",
   "version": "3.9.12"
  }
 },
 "nbformat": 4,
 "nbformat_minor": 5
}
