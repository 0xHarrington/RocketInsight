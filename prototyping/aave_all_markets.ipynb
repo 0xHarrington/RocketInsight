{
 "cells": [
  {
   "cell_type": "code",
   "execution_count": 32,
   "metadata": {},
   "outputs": [],
   "source": [
    "import pandas as pd\n",
    "import json\n",
    "from web3 import Web3\n",
    "from datetime import datetime, timedelta\n",
    "import time\n",
    "import sys\n",
    "import json\n",
    "from collections import Counter\n",
    "\n",
    "# Map token names to contract addresses\n",
    "token_address_map = {\n",
    "    'rETH': '0xae78736Cd615f374D3085123A210448E74Fc6393'\n",
    "    # fill with rest\n",
    "}\n",
    "\n",
    "# Map market name to \"Pool\" contract address and abi filepath\n",
    "contract_address_abi_map = {\n",
    "    'AAVE': ('0x87870Bca3F3fD6335C3F4ce8392D69350B4fA4E2', './AAVE_Pool_ABI.json')\n",
    "    # fill with rest\n",
    "}\n",
    "\n",
    "# Connect to ETH blockchain with infura API key\n",
    "w3 = Web3(Web3.HTTPProvider('https://mainnet.infura.io/v3/7e4f5238262543919688a59d0fef4a1d'))"
   ]
  },
  {
   "cell_type": "code",
   "execution_count": 33,
   "metadata": {},
   "outputs": [
    {
     "data": {
      "text/html": [
       "<div>\n",
       "<style scoped>\n",
       "    .dataframe tbody tr th:only-of-type {\n",
       "        vertical-align: middle;\n",
       "    }\n",
       "\n",
       "    .dataframe tbody tr th {\n",
       "        vertical-align: top;\n",
       "    }\n",
       "\n",
       "    .dataframe thead th {\n",
       "        text-align: right;\n",
       "    }\n",
       "</style>\n",
       "<table border=\"1\" class=\"dataframe\">\n",
       "  <thead>\n",
       "    <tr style=\"text-align: right;\">\n",
       "      <th></th>\n",
       "      <th>AAVE</th>\n",
       "    </tr>\n",
       "  </thead>\n",
       "  <tbody>\n",
       "    <tr>\n",
       "      <th>market_name</th>\n",
       "      <td>AAVE</td>\n",
       "    </tr>\n",
       "    <tr>\n",
       "      <th>total_borrow</th>\n",
       "      <td>&lt;web3._utils.datatypes.Borrow object at 0x16d7...</td>\n",
       "    </tr>\n",
       "    <tr>\n",
       "      <th>total_supply</th>\n",
       "      <td>&lt;web3._utils.datatypes.Supply object at 0x16d9...</td>\n",
       "    </tr>\n",
       "    <tr>\n",
       "      <th>url</th>\n",
       "      <td>https://aave.com/AAVE</td>\n",
       "    </tr>\n",
       "  </tbody>\n",
       "</table>\n",
       "</div>"
      ],
      "text/plain": [
       "                                                           AAVE\n",
       "market_name                                                AAVE\n",
       "total_borrow  <web3._utils.datatypes.Borrow object at 0x16d7...\n",
       "total_supply  <web3._utils.datatypes.Supply object at 0x16d9...\n",
       "url                                       https://aave.com/AAVE"
      ]
     },
     "execution_count": 33,
     "metadata": {},
     "output_type": "execute_result"
    }
   ],
   "source": [
    "def get_market_info(market_name, pool_address, abi_path):\n",
    "    # Load ABI for Pool contract\n",
    "    with open(abi_path, 'r') as abi_file:\n",
    "        abi = json.load(abi_file)\n",
    "\n",
    "    # Instantiate contract\n",
    "    contract = w3.eth.contract(address=pool_address, abi=abi)\n",
    "\n",
    "    # Get total supply and borrow\n",
    "    total_supply = contract.events.Supply()\n",
    "    total_borrow = contract.events.Borrow()\n",
    "\n",
    "    # Construct dictionary\n",
    "    market_info = {\n",
    "        'market_name': market_name,\n",
    "        'url': f'https://aave.com/{market_name}',\n",
    "        'total_supply': total_supply,\n",
    "        'total_borrow': total_borrow\n",
    "    }\n",
    "\n",
    "    return market_info\n",
    "\n",
    "# Function to get information for all markets\n",
    "def get_all_market_info():\n",
    "    all_market_info = {}\n",
    "    for market_name, (pool_address, abi_path) in contract_address_abi_map.items():\n",
    "        market_info = get_market_info(market_name, pool_address, abi_path)\n",
    "        all_market_info[market_name] = market_info\n",
    "    return all_market_info\n",
    "\n",
    "# Retrieve and print market information\n",
    "all_market_info = get_all_market_info()\n",
    "pd.DataFrame(all_market_info)"
   ]
  }
 ],
 "metadata": {
  "kernelspec": {
   "display_name": "base",
   "language": "python",
   "name": "python3"
  },
  "language_info": {
   "codemirror_mode": {
    "name": "ipython",
    "version": 3
   },
   "file_extension": ".py",
   "mimetype": "text/x-python",
   "name": "python",
   "nbconvert_exporter": "python",
   "pygments_lexer": "ipython3",
   "version": "3.11.5"
  }
 },
 "nbformat": 4,
 "nbformat_minor": 2
}
